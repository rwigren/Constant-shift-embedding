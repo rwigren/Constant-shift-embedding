{
 "cells": [
  {
   "cell_type": "markdown",
   "metadata": {},
   "source": [
    "# CSE Example\n",
    "This is an example constant shift embeddigs (CSE) applied two categories from the 20 Newsgroups dataset (http://qwone.com/~jason/20Newsgroups/). A representation can then be\n",
    "\n",
    "In short, the CSE uses a notion of similarity (or dissimilarity) and from this creates an embeddings in euclidean space (where euclidean (normal) distance can be used). Here the Jaccard similarity has been used in combination with a binary bag-of-words approach to form a simple example.\n",
    "\n",
    "\n",
    "\n",
    "\n",
    "The code of the CSE implementation is based on:\n",
    "\n",
    "`V. Roth, J. Laub, M. Kawanabe, and J.M. Buhmann.  \n",
    "\"Optimal cluster preserving embedding of nonmetric proximity data\".  \n",
    "Pattern Analysis and Machine Intelligence, IEEE Transactions on, 25(12):1540–1551`"
   ]
  },
  {
   "cell_type": "code",
   "execution_count": 1,
   "metadata": {
    "collapsed": true
   },
   "outputs": [],
   "source": [
    "import numpy as np\n",
    "from CSE import CSE"
   ]
  },
  {
   "cell_type": "markdown",
   "metadata": {},
   "source": [
    "### Data\n",
    "The categories 'soc.religion.christian' and 'misc.forsale' were chosen as they are \"highly unrelated\" (http://qwone.com/~jason/20Newsgroups/)"
   ]
  },
  {
   "cell_type": "code",
   "execution_count": 201,
   "metadata": {},
   "outputs": [],
   "source": [
    "from sklearn.datasets import fetch_20newsgroups\n",
    "categories = ('soc.religion.christian', 'misc.forsale')\n",
    "newsgroups_train = fetch_20newsgroups(subset='train', remove=('headers', 'footers', 'quotes'), \n",
    "                                      categories=categories)"
   ]
  },
  {
   "cell_type": "code",
   "execution_count": 202,
   "metadata": {},
   "outputs": [],
   "source": [
    "X = newsgroups_train.data\n",
    "y = newsgroups_train.target"
   ]
  },
  {
   "cell_type": "markdown",
   "metadata": {},
   "source": [
    "### Preprocessing and Tokenization\n",
    "No preprocessing and tokenization through the nlkt punkt 'word_tokenize'"
   ]
  },
  {
   "cell_type": "code",
   "execution_count": 203,
   "metadata": {},
   "outputs": [],
   "source": [
    "from nltk.tokenize import word_tokenize\n",
    "\n",
    "tokens = [word_tokenize(t) for t in X]"
   ]
  },
  {
   "cell_type": "markdown",
   "metadata": {},
   "source": [
    "### Binary bag-of-words\n",
    "From the tokenized sentences a binary bag-of-words representtion is fetched. "
   ]
  },
  {
   "cell_type": "code",
   "execution_count": 224,
   "metadata": {},
   "outputs": [],
   "source": [
    "from sklearn.feature_extraction.text import CountVectorizer\n",
    "vectorizer = CountVectorizer(preprocessor=lambda x: x, tokenizer=lambda x: x, binary=True)\n",
    "\n",
    "count_matrix = vectorizer.fit_transform(tokens)"
   ]
  },
  {
   "cell_type": "code",
   "execution_count": 225,
   "metadata": {},
   "outputs": [],
   "source": [
    "# Jaccard similarites calculated\n",
    "from similarities import jaccard_similarity_sparse as jac_sim\n",
    "sim = jac_sim.auto_sim(count_matrix)"
   ]
  },
  {
   "cell_type": "markdown",
   "metadata": {},
   "source": [
    "### CSE\n",
    "CSE implementation applied to the calculated similarites, "
   ]
  },
  {
   "cell_type": "code",
   "execution_count": 226,
   "metadata": {
    "scrolled": true
   },
   "outputs": [],
   "source": [
    "cse = CSE(dimensions=2)\n",
    "embed = cse.fit_transform(sim)"
   ]
  },
  {
   "cell_type": "markdown",
   "metadata": {},
   "source": [
    "### Visualization\n",
    "2-dimensional embeddings shown in a scatter-plot, 'soc.religion.christian' shown as red and 'misc.forsale' shown as blue. While these certainly have some overlap, a seperation between the two categories can be seen."
   ]
  },
  {
   "cell_type": "code",
   "execution_count": 227,
   "metadata": {},
   "outputs": [
    {
     "data": {
      "image/png": "[encoded data removed]",
      "text/plain": [
       "<Figure size 432x288 with 1 Axes>"
      ]
     },
     "metadata": {},
     "output_type": "display_data"
    }
   ],
   "source": [
    "import matplotlib.pyplot as plt\n",
    "colors = ('blue', 'red')\n",
    "\n",
    "\n",
    "for i, col in enumerate(colors):\n",
    "    subset = embed[y==i,]\n",
    "    plt.scatter(subset[:,0], subset[:,1], c=col)\n",
    "plt.show()"
   ]
  },
  {
   "cell_type": "code",
   "execution_count": null,
   "metadata": {},
   "outputs": [],
   "source": []
  },
  {
   "cell_type": "code",
   "execution_count": null,
   "metadata": {},
   "outputs": [],
   "source": []
  },
  {
   "cell_type": "code",
   "execution_count": null,
   "metadata": {
    "collapsed": true
   },
   "outputs": [],
   "source": []
  }
 ],
 "metadata": {
  "kernelspec": {
   "display_name": "Python 3",
   "language": "python",
   "name": "python3"
  },
  "language_info": {
   "codemirror_mode": {
    "name": "ipython",
    "version": 3
   },
   "file_extension": ".py",
   "mimetype": "text/x-python",
   "name": "python",
   "nbconvert_exporter": "python",
   "pygments_lexer": "ipython3",
   "version": "3.6.8"
  }
 },
 "nbformat": 4,
 "nbformat_minor": 2
}
